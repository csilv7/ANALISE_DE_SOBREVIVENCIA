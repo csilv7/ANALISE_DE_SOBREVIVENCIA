{
 "cells": [
  {
   "cell_type": "code",
   "execution_count": 1,
   "metadata": {
    "id": "IshKpvUZAjA5"
   },
   "outputs": [],
   "source": [
    "import numpy as np\n",
    "import pandas as pd\n",
    "\n",
    "import matplotlib.pyplot as plt\n",
    "import seaborn as sns\n",
    "\n",
    "from scipy.stats import weibull_min\n",
    "from scipy.optimize import minimize"
   ]
  },
  {
   "cell_type": "markdown",
   "metadata": {
    "id": "Bd1dqgR3I5pk"
   },
   "source": [
    "# (1) Modelagem de Dados de Sobrevivência sujeitos à Censura Intervalar"
   ]
  },
  {
   "cell_type": "markdown",
   "metadata": {
    "id": "9A21InRbI_Hs"
   },
   "source": [
    "## (1.1) Exemplo do Livro"
   ]
  },
  {
   "cell_type": "code",
   "execution_count": 2,
   "metadata": {
    "colab": {
     "base_uri": "https://localhost:8080/"
    },
    "id": "RsO5-5iWI-Mg",
    "outputId": "99c8dc77-19ef-4496-9271-df1e3bd9837a"
   },
   "outputs": [
    {
     "name": "stderr",
     "output_type": "stream",
     "text": [
      "C:\\Users\\user\\AppData\\Local\\Temp\\ipykernel_30880\\3288520303.py:5: FutureWarning: The 'delim_whitespace' keyword in pd.read_csv is deprecated and will be removed in a future version. Use ``sep='\\s+'`` instead\n",
      "  dados = pd.read_csv(url, delim_whitespace=True)\n"
     ]
    },
    {
     "name": "stdout",
     "output_type": "stream",
     "text": [
      "<class 'pandas.core.frame.DataFrame'>\n",
      "RangeIndex: 94 entries, 0 to 93\n",
      "Data columns (total 4 columns):\n",
      " #   Column  Non-Null Count  Dtype  \n",
      "---  ------  --------------  -----  \n",
      " 0   left    94 non-null     int64  \n",
      " 1   right   56 non-null     float64\n",
      " 2   ther    94 non-null     int64  \n",
      " 3   cens    94 non-null     int64  \n",
      "dtypes: float64(1), int64(3)\n",
      "memory usage: 3.1 KB\n"
     ]
    }
   ],
   "source": [
    "# Caminho do arquivo\n",
    "url = \"https://docs.ufpr.br/~giolo/asa/dados/breast.txt\"\n",
    "\n",
    "# Leitura do arquivo\n",
    "dados = pd.read_csv(url, delim_whitespace=True)\n",
    "\n",
    "# Info do Data Frame\n",
    "dados.info()"
   ]
  },
  {
   "cell_type": "code",
   "execution_count": 3,
   "metadata": {
    "colab": {
     "base_uri": "https://localhost:8080/",
     "height": 206
    },
    "id": "gxqGSnLGBS9Z",
    "outputId": "c8c5b83c-df7b-4504-fe1c-4b926798f895"
   },
   "outputs": [
    {
     "data": {
      "text/html": [
       "<div>\n",
       "<style scoped>\n",
       "    .dataframe tbody tr th:only-of-type {\n",
       "        vertical-align: middle;\n",
       "    }\n",
       "\n",
       "    .dataframe tbody tr th {\n",
       "        vertical-align: top;\n",
       "    }\n",
       "\n",
       "    .dataframe thead th {\n",
       "        text-align: right;\n",
       "    }\n",
       "</style>\n",
       "<table border=\"1\" class=\"dataframe\">\n",
       "  <thead>\n",
       "    <tr style=\"text-align: right;\">\n",
       "      <th></th>\n",
       "      <th>left</th>\n",
       "      <th>right</th>\n",
       "      <th>ther</th>\n",
       "      <th>cens</th>\n",
       "    </tr>\n",
       "  </thead>\n",
       "  <tbody>\n",
       "    <tr>\n",
       "      <th>0</th>\n",
       "      <td>0</td>\n",
       "      <td>7.0</td>\n",
       "      <td>1</td>\n",
       "      <td>1</td>\n",
       "    </tr>\n",
       "    <tr>\n",
       "      <th>1</th>\n",
       "      <td>0</td>\n",
       "      <td>8.0</td>\n",
       "      <td>1</td>\n",
       "      <td>1</td>\n",
       "    </tr>\n",
       "    <tr>\n",
       "      <th>2</th>\n",
       "      <td>0</td>\n",
       "      <td>5.0</td>\n",
       "      <td>1</td>\n",
       "      <td>1</td>\n",
       "    </tr>\n",
       "    <tr>\n",
       "      <th>3</th>\n",
       "      <td>4</td>\n",
       "      <td>11.0</td>\n",
       "      <td>1</td>\n",
       "      <td>1</td>\n",
       "    </tr>\n",
       "    <tr>\n",
       "      <th>4</th>\n",
       "      <td>5</td>\n",
       "      <td>12.0</td>\n",
       "      <td>1</td>\n",
       "      <td>1</td>\n",
       "    </tr>\n",
       "  </tbody>\n",
       "</table>\n",
       "</div>"
      ],
      "text/plain": [
       "   left  right  ther  cens\n",
       "0     0    7.0     1     1\n",
       "1     0    8.0     1     1\n",
       "2     0    5.0     1     1\n",
       "3     4   11.0     1     1\n",
       "4     5   12.0     1     1"
      ]
     },
     "execution_count": 3,
     "metadata": {},
     "output_type": "execute_result"
    }
   ],
   "source": [
    "# Visualizar: Começo\n",
    "dados.head()"
   ]
  },
  {
   "cell_type": "code",
   "execution_count": 4,
   "metadata": {
    "colab": {
     "base_uri": "https://localhost:8080/",
     "height": 206
    },
    "id": "DQygn1f-Bc7h",
    "outputId": "e99055ee-43f8-44c0-a55e-22f1fe438b61"
   },
   "outputs": [
    {
     "data": {
      "text/html": [
       "<div>\n",
       "<style scoped>\n",
       "    .dataframe tbody tr th:only-of-type {\n",
       "        vertical-align: middle;\n",
       "    }\n",
       "\n",
       "    .dataframe tbody tr th {\n",
       "        vertical-align: top;\n",
       "    }\n",
       "\n",
       "    .dataframe thead th {\n",
       "        text-align: right;\n",
       "    }\n",
       "</style>\n",
       "<table border=\"1\" class=\"dataframe\">\n",
       "  <thead>\n",
       "    <tr style=\"text-align: right;\">\n",
       "      <th></th>\n",
       "      <th>left</th>\n",
       "      <th>right</th>\n",
       "      <th>ther</th>\n",
       "      <th>cens</th>\n",
       "    </tr>\n",
       "  </thead>\n",
       "  <tbody>\n",
       "    <tr>\n",
       "      <th>89</th>\n",
       "      <td>34</td>\n",
       "      <td>NaN</td>\n",
       "      <td>0</td>\n",
       "      <td>0</td>\n",
       "    </tr>\n",
       "    <tr>\n",
       "      <th>90</th>\n",
       "      <td>35</td>\n",
       "      <td>NaN</td>\n",
       "      <td>0</td>\n",
       "      <td>0</td>\n",
       "    </tr>\n",
       "    <tr>\n",
       "      <th>91</th>\n",
       "      <td>35</td>\n",
       "      <td>39.0</td>\n",
       "      <td>0</td>\n",
       "      <td>1</td>\n",
       "    </tr>\n",
       "    <tr>\n",
       "      <th>92</th>\n",
       "      <td>44</td>\n",
       "      <td>48.0</td>\n",
       "      <td>0</td>\n",
       "      <td>1</td>\n",
       "    </tr>\n",
       "    <tr>\n",
       "      <th>93</th>\n",
       "      <td>48</td>\n",
       "      <td>NaN</td>\n",
       "      <td>0</td>\n",
       "      <td>0</td>\n",
       "    </tr>\n",
       "  </tbody>\n",
       "</table>\n",
       "</div>"
      ],
      "text/plain": [
       "    left  right  ther  cens\n",
       "89    34    NaN     0     0\n",
       "90    35    NaN     0     0\n",
       "91    35   39.0     0     1\n",
       "92    44   48.0     0     1\n",
       "93    48    NaN     0     0"
      ]
     },
     "execution_count": 4,
     "metadata": {},
     "output_type": "execute_result"
    }
   ],
   "source": [
    "# Visualizar: Fim\n",
    "dados.tail()"
   ]
  },
  {
   "cell_type": "code",
   "execution_count": 5,
   "metadata": {
    "id": "wbqzfUrjBfj5"
   },
   "outputs": [],
   "source": [
    "# Ajuste nos Dados\n",
    "df = dados.copy()\n",
    "df[\"left\"] = df[\"left\"].replace(0, 0.01)\n",
    "df[\"right\"] = df[\"right\"].replace(np.nan, np.inf)"
   ]
  },
  {
   "cell_type": "code",
   "execution_count": 6,
   "metadata": {
    "colab": {
     "base_uri": "https://localhost:8080/",
     "height": 206
    },
    "id": "R891_5dWB3VT",
    "outputId": "78848823-a152-4a9b-a4e0-9a555bec911c"
   },
   "outputs": [
    {
     "data": {
      "text/html": [
       "<div>\n",
       "<style scoped>\n",
       "    .dataframe tbody tr th:only-of-type {\n",
       "        vertical-align: middle;\n",
       "    }\n",
       "\n",
       "    .dataframe tbody tr th {\n",
       "        vertical-align: top;\n",
       "    }\n",
       "\n",
       "    .dataframe thead th {\n",
       "        text-align: right;\n",
       "    }\n",
       "</style>\n",
       "<table border=\"1\" class=\"dataframe\">\n",
       "  <thead>\n",
       "    <tr style=\"text-align: right;\">\n",
       "      <th></th>\n",
       "      <th>left</th>\n",
       "      <th>right</th>\n",
       "      <th>ther</th>\n",
       "      <th>cens</th>\n",
       "    </tr>\n",
       "  </thead>\n",
       "  <tbody>\n",
       "    <tr>\n",
       "      <th>0</th>\n",
       "      <td>0.01</td>\n",
       "      <td>7.0</td>\n",
       "      <td>1</td>\n",
       "      <td>1</td>\n",
       "    </tr>\n",
       "    <tr>\n",
       "      <th>1</th>\n",
       "      <td>0.01</td>\n",
       "      <td>8.0</td>\n",
       "      <td>1</td>\n",
       "      <td>1</td>\n",
       "    </tr>\n",
       "    <tr>\n",
       "      <th>2</th>\n",
       "      <td>0.01</td>\n",
       "      <td>5.0</td>\n",
       "      <td>1</td>\n",
       "      <td>1</td>\n",
       "    </tr>\n",
       "    <tr>\n",
       "      <th>3</th>\n",
       "      <td>4.00</td>\n",
       "      <td>11.0</td>\n",
       "      <td>1</td>\n",
       "      <td>1</td>\n",
       "    </tr>\n",
       "    <tr>\n",
       "      <th>4</th>\n",
       "      <td>5.00</td>\n",
       "      <td>12.0</td>\n",
       "      <td>1</td>\n",
       "      <td>1</td>\n",
       "    </tr>\n",
       "  </tbody>\n",
       "</table>\n",
       "</div>"
      ],
      "text/plain": [
       "   left  right  ther  cens\n",
       "0  0.01    7.0     1     1\n",
       "1  0.01    8.0     1     1\n",
       "2  0.01    5.0     1     1\n",
       "3  4.00   11.0     1     1\n",
       "4  5.00   12.0     1     1"
      ]
     },
     "execution_count": 6,
     "metadata": {},
     "output_type": "execute_result"
    }
   ],
   "source": [
    "# Visualizar: Começo\n",
    "df.head()"
   ]
  },
  {
   "cell_type": "code",
   "execution_count": 7,
   "metadata": {
    "colab": {
     "base_uri": "https://localhost:8080/",
     "height": 206
    },
    "id": "zZjdjMwgAZtZ",
    "outputId": "31988b7a-8a84-4bee-c807-ce597d3f5b10"
   },
   "outputs": [
    {
     "data": {
      "text/html": [
       "<div>\n",
       "<style scoped>\n",
       "    .dataframe tbody tr th:only-of-type {\n",
       "        vertical-align: middle;\n",
       "    }\n",
       "\n",
       "    .dataframe tbody tr th {\n",
       "        vertical-align: top;\n",
       "    }\n",
       "\n",
       "    .dataframe thead th {\n",
       "        text-align: right;\n",
       "    }\n",
       "</style>\n",
       "<table border=\"1\" class=\"dataframe\">\n",
       "  <thead>\n",
       "    <tr style=\"text-align: right;\">\n",
       "      <th></th>\n",
       "      <th>left</th>\n",
       "      <th>right</th>\n",
       "      <th>ther</th>\n",
       "      <th>cens</th>\n",
       "    </tr>\n",
       "  </thead>\n",
       "  <tbody>\n",
       "    <tr>\n",
       "      <th>89</th>\n",
       "      <td>34.0</td>\n",
       "      <td>inf</td>\n",
       "      <td>0</td>\n",
       "      <td>0</td>\n",
       "    </tr>\n",
       "    <tr>\n",
       "      <th>90</th>\n",
       "      <td>35.0</td>\n",
       "      <td>inf</td>\n",
       "      <td>0</td>\n",
       "      <td>0</td>\n",
       "    </tr>\n",
       "    <tr>\n",
       "      <th>91</th>\n",
       "      <td>35.0</td>\n",
       "      <td>39.0</td>\n",
       "      <td>0</td>\n",
       "      <td>1</td>\n",
       "    </tr>\n",
       "    <tr>\n",
       "      <th>92</th>\n",
       "      <td>44.0</td>\n",
       "      <td>48.0</td>\n",
       "      <td>0</td>\n",
       "      <td>1</td>\n",
       "    </tr>\n",
       "    <tr>\n",
       "      <th>93</th>\n",
       "      <td>48.0</td>\n",
       "      <td>inf</td>\n",
       "      <td>0</td>\n",
       "      <td>0</td>\n",
       "    </tr>\n",
       "  </tbody>\n",
       "</table>\n",
       "</div>"
      ],
      "text/plain": [
       "    left  right  ther  cens\n",
       "89  34.0    inf     0     0\n",
       "90  35.0    inf     0     0\n",
       "91  35.0   39.0     0     1\n",
       "92  44.0   48.0     0     1\n",
       "93  48.0    inf     0     0"
      ]
     },
     "execution_count": 7,
     "metadata": {},
     "output_type": "execute_result"
    }
   ],
   "source": [
    "# Visualizar: Fim\n",
    "df.tail()"
   ]
  },
  {
   "cell_type": "markdown",
   "metadata": {
    "id": "D3L3qLQxC52J"
   },
   "source": [
    "### (3.1.1) Ajuste via Modelo Weibulll"
   ]
  },
  {
   "cell_type": "code",
   "execution_count": 8,
   "metadata": {
    "id": "GOLh0CFIDqbC"
   },
   "outputs": [],
   "source": [
    "# Função para o Tempo de Falha não Censurado\n",
    "def surv_interval(L, R, x_cov, coeffs_par, shape_par, scale_par):\n",
    "    # Preditor Linear\n",
    "    effect = np.dot(x_cov, coeffs_par)\n",
    "\n",
    "    # Contribuição para Função Verossimilhança\n",
    "    surv_L = 1 - weibull_min.cdf(L / np.exp(effect), shape_par, scale=scale_par)\n",
    "    surv_R = 1 - weibull_min.cdf(R / np.exp(effect), shape_par, scale=scale_par)\n",
    "\n",
    "    return surv_L - surv_R\n",
    "\n",
    "# Função para o Tempo de Falha Censurado\n",
    "def surv_cens(L, x_cov, coeffs_par, shape_par, scale_par):\n",
    "    # Preditor Linear\n",
    "    effect = np.dot(x_cov, coeffs_par)\n",
    "\n",
    "    # Contribuição para Função Verossimilhança\n",
    "    surv_L = 1 - weibull_min.cdf(L / np.exp(effect), shape_par, scale=scale_par)\n",
    "\n",
    "    return surv_L\n",
    "\n",
    "# Função Log-verossimilhança\n",
    "def loglikelihood(par, interval, cens, X_cov):\n",
    "    # Número de parâmetros\n",
    "    n_par = len(par)\n",
    "\n",
    "    # Distinção de parâmetros\n",
    "    shape_par = par[0]\n",
    "    scale_par = np.exp(par[1])\n",
    "    coeffs_par = par[2:n_par]\n",
    "\n",
    "    # Distinção dos Limites\n",
    "    L = interval[:, 0]\n",
    "    R = interval[:, 1]\n",
    "\n",
    "    # Função Log-verossimilhança\n",
    "    S1 = surv_interval(L=L, R=R, x_cov=X_cov, coeffs_par=coeffs_par,\n",
    "                       shape_par=shape_par, scale_par=scale_par)\n",
    "    S2 = surv_cens(L=L, x_cov=X_cov, coeffs_par=coeffs_par,\n",
    "                   shape_par=shape_par, scale_par=scale_par)\n",
    "\n",
    "    flv = np.sum(cens * np.log(S1) + (1 - cens) * np.log(S2))\n",
    "\n",
    "    return -flv"
   ]
  },
  {
   "cell_type": "code",
   "execution_count": 9,
   "metadata": {
    "id": "mBYQPwBBEcwp"
   },
   "outputs": [],
   "source": [
    "# Separação dos Dados\n",
    "y =  np.array([df[\"left\"], df[\"right\"]]).T # Variável Resposta\n",
    "X = np.array([df[\"ther\"]]).T               # Matrix de Covariáveis"
   ]
  },
  {
   "cell_type": "code",
   "execution_count": 10,
   "metadata": {
    "colab": {
     "base_uri": "https://localhost:8080/"
    },
    "id": "xDVQfN0lMUS8",
    "outputId": "cec3c9f2-05d8-4759-e8cf-fceaba4134bf"
   },
   "outputs": [
    {
     "name": "stdout",
     "output_type": "stream",
     "text": [
      "  message: Optimization terminated successfully.\n",
      "  success: True\n",
      "   status: 0\n",
      "      fun: 143.03320037310212\n",
      "        x: [ 1.614e+00  3.331e+00  5.680e-01]\n",
      "      nit: 15\n",
      "      jac: [-5.722e-06 -3.815e-06  1.907e-06]\n",
      " hess_inv: [[ 3.746e-02 -5.072e-04 -6.809e-03]\n",
      "            [-5.072e-04  1.135e-02 -1.129e-02]\n",
      "            [-6.809e-03 -1.129e-02  3.111e-02]]\n",
      "     nfev: 72\n",
      "     njev: 18\n"
     ]
    }
   ],
   "source": [
    "# Número de parâmetros para estimar\n",
    "n_par = 2 + X.shape[1]\n",
    "\n",
    "# Chute Inicial\n",
    "init = np.ones(n_par)\n",
    "\n",
    "# Minimização\n",
    "ajust = minimize(\n",
    "    loglikelihood,\n",
    "    init,\n",
    "    args=(y, dados[\"cens\"], X),\n",
    "    method=\"BFGS\",\n",
    ")\n",
    "\n",
    "print(ajust)"
   ]
  },
  {
   "cell_type": "markdown",
   "metadata": {
    "id": "OAXINlz8F7rK"
   },
   "source": [
    "### (3.1.2) Ajuste via Modelo Exponencial por Partes de Potência ($MEPP$)"
   ]
  }
 ],
 "metadata": {
  "colab": {
   "provenance": []
  },
  "kernelspec": {
   "display_name": "Python 3 (ipykernel)",
   "language": "python",
   "name": "python3"
  },
  "language_info": {
   "codemirror_mode": {
    "name": "ipython",
    "version": 3
   },
   "file_extension": ".py",
   "mimetype": "text/x-python",
   "name": "python",
   "nbconvert_exporter": "python",
   "pygments_lexer": "ipython3",
   "version": "3.12.7"
  }
 },
 "nbformat": 4,
 "nbformat_minor": 4
}
